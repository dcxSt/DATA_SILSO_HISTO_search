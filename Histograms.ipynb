{
 "cells": [
  {
   "cell_type": "markdown",
   "metadata": {},
   "source": [
    "Testing the histogram plotting function"
   ]
  },
  {
   "cell_type": "code",
   "execution_count": 20,
   "metadata": {},
   "outputs": [],
   "source": [
    "# import statements        \n",
    "import mysql.connector\n",
    "import numpy as np\n",
    "import matplotlib.pyplot as plt\n",
    "from scipy.stats import norm\n",
    "import math\n",
    "import datetime as dt\n",
    "import random\n",
    "\n",
    "# my files\n",
    "import db_connection\n",
    "import db_edit\n",
    "import db_search\n",
    "import file_io\n",
    "import quality_control_tests\n",
    "from graphs_helper import *\n",
    "\n",
    "import statsmodels.discrete.discrete_model as sm\n",
    "from scipy.stats import poisson\n",
    "from scipy.special import factorial\n"
   ]
  },
  {
   "cell_type": "code",
   "execution_count": 21,
   "metadata": {},
   "outputs": [
    {
     "name": "stdout",
     "output_type": "stream",
     "text": [
      "\n",
      "mysql connection successfully established with DATA_SILSO_HISTO\n",
      "data successfully retrieved\n",
      "Closing MySQL connection...\n",
      "\n",
      "mysql connection successfully established with DATA_SILSO_HISTO\n",
      "observers sucessfully retrieved\n",
      "Closing MySQL connection...\n"
     ]
    },
    {
     "data": {
      "image/png": "[encoded data removed]",
      "text/plain": [
       "<Figure size 864x288 with 1 Axes>"
      ]
     },
     "metadata": {
      "needs_background": "light"
     },
     "output_type": "display_data"
    }
   ],
   "source": [
    "weights = frequency_wolf_histogram(observer=\"Wolfer\",\n",
    "                                   option=\"wolf\",\n",
    "                                   zero=False,binwidth=3,\n",
    "                                   only_blue=False,figsize=(12,4),\n",
    "                                   data_interval=(0,92),sup_freq=1000,save_as=\"figures/histogram_wolfer2.png\")\n"
   ]
  },
  {
   "cell_type": "code",
   "execution_count": 40,
   "metadata": {},
   "outputs": [],
   "source": [
    "#weights"
   ]
  },
  {
   "cell_type": "code",
   "execution_count": 49,
   "metadata": {},
   "outputs": [
    {
     "name": "stdout",
     "output_type": "stream",
     "text": [
      "Optimization terminated successfully.\n",
      "         Current function value: 118.619772\n",
      "         Iterations 13\n"
     ]
    }
   ],
   "source": [
    "res = sm.Poisson(endog=weights,\n",
    "           exog=[i for i in range(len(weights))]).fit()"
   ]
  },
  {
   "cell_type": "code",
   "execution_count": 52,
   "metadata": {},
   "outputs": [
    {
     "data": {
      "text/html": [
       "<table class=\"simpletable\">\n",
       "<caption>Poisson Regression Results</caption>\n",
       "<tr>\n",
       "  <th>Dep. Variable:</th>         <td>y</td>        <th>  No. Observations:  </th>  <td>   306</td> \n",
       "</tr>\n",
       "<tr>\n",
       "  <th>Model:</th>              <td>Poisson</td>     <th>  Df Residuals:      </th>  <td>   305</td> \n",
       "</tr>\n",
       "<tr>\n",
       "  <th>Method:</th>               <td>MLE</td>       <th>  Df Model:          </th>  <td>     0</td> \n",
       "</tr>\n",
       "<tr>\n",
       "  <th>Date:</th>          <td>Fri, 09 Aug 2019</td> <th>  Pseudo R-squ.:     </th>  <td>-1.995</td> \n",
       "</tr>\n",
       "<tr>\n",
       "  <th>Time:</th>              <td>12:21:27</td>     <th>  Log-Likelihood:    </th> <td> -36298.</td>\n",
       "</tr>\n",
       "<tr>\n",
       "  <th>converged:</th>           <td>True</td>       <th>  LL-Null:           </th> <td> -12119.</td>\n",
       "</tr>\n",
       "<tr>\n",
       "  <th> </th>                      <td> </td>        <th>  LLR p-value:       </th>  <td>   nan</td> \n",
       "</tr>\n",
       "</table>\n",
       "<table class=\"simpletable\">\n",
       "<tr>\n",
       "   <td></td>     <th>coef</th>     <th>std err</th>      <th>z</th>      <th>P>|z|</th>  <th>[0.025</th>    <th>0.975]</th>  \n",
       "</tr>\n",
       "<tr>\n",
       "  <th>x1</th> <td>    0.0094</td> <td>    0.000</td> <td>   91.041</td> <td> 0.000</td> <td>    0.009</td> <td>    0.010</td>\n",
       "</tr>\n",
       "</table>"
      ],
      "text/plain": [
       "<class 'statsmodels.iolib.summary.Summary'>\n",
       "\"\"\"\n",
       "                          Poisson Regression Results                          \n",
       "==============================================================================\n",
       "Dep. Variable:                      y   No. Observations:                  306\n",
       "Model:                        Poisson   Df Residuals:                      305\n",
       "Method:                           MLE   Df Model:                            0\n",
       "Date:                Fri, 09 Aug 2019   Pseudo R-squ.:                  -1.995\n",
       "Time:                        12:21:27   Log-Likelihood:                -36298.\n",
       "converged:                       True   LL-Null:                       -12119.\n",
       "                                        LLR p-value:                       nan\n",
       "==============================================================================\n",
       "                 coef    std err          z      P>|z|      [0.025      0.975]\n",
       "------------------------------------------------------------------------------\n",
       "x1             0.0094      0.000     91.041      0.000       0.009       0.010\n",
       "==============================================================================\n",
       "\"\"\""
      ]
     },
     "execution_count": 52,
     "metadata": {},
     "output_type": "execute_result"
    }
   ],
   "source": [
    "res.summary()\n"
   ]
  },
  {
   "cell_type": "code",
   "execution_count": 43,
   "metadata": {},
   "outputs": [
    {
     "data": {
      "text/plain": [
       "306"
      ]
     },
     "execution_count": 43,
     "metadata": {},
     "output_type": "execute_result"
    }
   ],
   "source": [
    "len(res.predict())"
   ]
  },
  {
   "cell_type": "code",
   "execution_count": 44,
   "metadata": {},
   "outputs": [
    {
     "data": {
      "text/plain": [
       "306"
      ]
     },
     "execution_count": 44,
     "metadata": {},
     "output_type": "execute_result"
    }
   ],
   "source": [
    "len(weights)"
   ]
  },
  {
   "cell_type": "code",
   "execution_count": 75,
   "metadata": {},
   "outputs": [
    {
     "data": {
      "image/png": "[encoded data removed]",
      "text/plain": [
       "<Figure size 432x288 with 1 Axes>"
      ]
     },
     "metadata": {
      "needs_background": "light"
     },
     "output_type": "display_data"
    }
   ],
   "source": [
    "x_array=[i for i in range(len(weights))]\n",
    "fig, ax = plt.subplots()\n",
    "    \n",
    "ax.hist(x_array, weights=weights, bins=len(weights), \n",
    "        color='lightblue', alpha=0.9)\n",
    "ax.hist(x_array, weights=res.predict(), bins =len(weights), \n",
    "        color='salmon', alpha=0.3)# alpha is transparency\n",
    "\n",
    "ax.set(title='Histogram Frequency observations ',\n",
    "       ylabel='frequency',xlabel=\"xlabel\")\n",
    "\n",
    "ax.margins(0.05)\n",
    "ax.set_ylim(bottom=0)\n",
    "plt.show()"
   ]
  },
  {
   "cell_type": "code",
   "execution_count": 80,
   "metadata": {},
   "outputs": [],
   "source": [
    "def poiss(k, lamb):\n",
    "     return (lamb**k/factorial(k))*np.exp(-lamb)"
   ]
  },
  {
   "cell_type": "code",
   "execution_count": 87,
   "metadata": {},
   "outputs": [
    {
     "data": {
      "image/png": "[encoded data removed]",
      "text/plain": [
       "<Figure size 432x288 with 1 Axes>"
      ]
     },
     "metadata": {
      "needs_background": "light"
     },
     "output_type": "display_data"
    }
   ],
   "source": [
    "x_array=[i for i in range(len(weights))]\n",
    "fig, ax = plt.subplots()\n",
    "    \n",
    "ax.hist(x_array, weights=weights, bins=len(weights), \n",
    "        color='lightblue', alpha=0.9)\n",
    "ax.hist(x_array, weights=[poiss(3.4,i)*1000 for i in range(len(x_array))],\n",
    "        bins =len(weights), \n",
    "        color='salmon', alpha=0.3)# alpha is transparency\n",
    "\n",
    "ax.set(title='Histogram Frequency observations ',\n",
    "       ylabel='frequency',xlabel=\"xlabel\")\n",
    "\n",
    "ax.margins(0.05)\n",
    "ax.set_ylim(bottom=0)\n",
    "plt.show()"
   ]
  },
  {
   "cell_type": "code",
   "execution_count": null,
   "metadata": {},
   "outputs": [],
   "source": []
  },
  {
   "cell_type": "code",
   "execution_count": null,
   "metadata": {},
   "outputs": [],
   "source": []
  },
  {
   "cell_type": "code",
   "execution_count": null,
   "metadata": {},
   "outputs": [],
   "source": []
  },
  {
   "cell_type": "code",
   "execution_count": null,
   "metadata": {},
   "outputs": [],
   "source": []
  },
  {
   "cell_type": "code",
   "execution_count": null,
   "metadata": {},
   "outputs": [],
   "source": []
  },
  {
   "cell_type": "code",
   "execution_count": null,
   "metadata": {},
   "outputs": [],
   "source": []
  },
  {
   "cell_type": "code",
   "execution_count": null,
   "metadata": {},
   "outputs": [],
   "source": []
  }
 ],
 "metadata": {
  "kernelspec": {
   "display_name": "Python 3",
   "language": "python",
   "name": "python3"
  },
  "language_info": {
   "codemirror_mode": {
    "name": "ipython",
    "version": 3
   },
   "file_extension": ".py",
   "mimetype": "text/x-python",
   "name": "python",
   "nbconvert_exporter": "python",
   "pygments_lexer": "ipython3",
   "version": "3.7.3"
  }
 },
 "nbformat": 4,
 "nbformat_minor": 2
}
