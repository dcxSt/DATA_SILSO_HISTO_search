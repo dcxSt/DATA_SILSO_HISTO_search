{
 "cells": [
  {
   "cell_type": "raw",
   "metadata": {},
   "source": [
    "Note about the notebook:\n",
    "I will write each section as a function so that it is easy to put this into a real program, as well as so that i can easily combine these things.\n",
    "\n",
    "\n",
    "DATA:\n",
    "\n",
    "0    1         2           3           4 \n",
    "ID  DATE  FK_RUBRICS  FK_OBSERVERS  GROUPS\n",
    "\n",
    "    5       6      7        8          9\n",
    "SUNSPOTS  WOLF  QUALITY  COMMENT  DATE_INSERT\n",
    "\n"
   ]
  },
  {
   "cell_type": "code",
   "execution_count": 19,
   "metadata": {},
   "outputs": [],
   "source": [
    "# import statements\n",
    "\n",
    "\n",
    "        \n",
    "import mysql.connector\n",
    "import numpy\n",
    "import matplotlib.pyplot as plt\n",
    "\n",
    "# my files\n",
    "import db_connection\n",
    "import db_edit\n",
    "import db_search\n",
    "import file_io\n",
    "import quality_control_tests"
   ]
  },
  {
   "cell_type": "code",
   "execution_count": 20,
   "metadata": {},
   "outputs": [
    {
     "name": "stdout",
     "output_type": "stream",
     "text": [
      "\n",
      "mysql connection successfully established...\n",
      "\n",
      "Found a total of 318 distinct comments\n",
      "\n",
      "The comments have been written to the file comments_and_frequency.txt\n",
      "Closing MySQL connection...\n"
     ]
    }
   ],
   "source": [
    "db_search.different_comments(cursor=None,mydb=None,file_name=\"comments_and_frequency.txt\")"
   ]
  },
  {
   "cell_type": "code",
   "execution_count": null,
   "metadata": {},
   "outputs": [],
   "source": []
  },
  {
   "cell_type": "code",
   "execution_count": null,
   "metadata": {},
   "outputs": [],
   "source": []
  },
  {
   "cell_type": "code",
   "execution_count": null,
   "metadata": {},
   "outputs": [],
   "source": []
  }
 ],
 "metadata": {
  "kernelspec": {
   "display_name": "Python 3",
   "language": "python",
   "name": "python3"
  },
  "language_info": {
   "codemirror_mode": {
    "name": "ipython",
    "version": 3
   },
   "file_extension": ".py",
   "mimetype": "text/x-python",
   "name": "python",
   "nbconvert_exporter": "python",
   "pygments_lexer": "ipython3",
   "version": "3.7.3"
  }
 },
 "nbformat": 4,
 "nbformat_minor": 2
}
